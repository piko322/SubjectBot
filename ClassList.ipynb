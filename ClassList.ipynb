{
 "cells": [
  {
   "cell_type": "code",
   "execution_count": null,
   "metadata": {},
   "outputs": [],
   "source": [
    "import webregParser as wrp\n",
    "import webregScheduler as wrs\n",
    "import pandas as pd\n",
    "import user\n",
    "from datetime import datetime"
   ]
  },
  {
   "cell_type": "code",
   "execution_count": null,
   "metadata": {},
   "outputs": [],
   "source": [
    "# For reloading moduels after edit, Jupyter notebook only\n",
    "import importlib as imp\n",
    "def reload_modules():\n",
    "    imp.reload(wrp)\n",
    "    imp.reload(wrs)\n",
    "    imp.reload(user)\n",
    "reload_modules()"
   ]
  },
  {
   "cell_type": "code",
   "execution_count": null,
   "metadata": {},
   "outputs": [],
   "source": [
    "schedule = wrp.webregParser(\"webregMain.pdf\")"
   ]
  },
  {
   "cell_type": "code",
   "execution_count": null,
   "metadata": {},
   "outputs": [],
   "source": [
    "weekly_df = schedule.get_weekly()\n",
    "non_weekly_df = schedule.get_non_weekly()"
   ]
  },
  {
   "cell_type": "code",
   "execution_count": null,
   "metadata": {},
   "outputs": [],
   "source": [
    "weekly_df"
   ]
  },
  {
   "cell_type": "code",
   "execution_count": null,
   "metadata": {},
   "outputs": [],
   "source": [
    "def reformat_time(time):\n",
    "    # Add 0 to the front of the time if it is missing\n",
    "    if time[1] == \":\":\n",
    "        time = \"0\" + time\n",
    "    # Replace \"a\" with \"AM\" and \"p\" with \"PM\"\n",
    "    if time[-1] == \"a\":\n",
    "        time = time[:-1] + \"AM\"\n",
    "    elif time[-1] == \"p\":\n",
    "        time = time[:-1] + \"PM\"\n",
    "    return time"
   ]
  },
  {
   "cell_type": "code",
   "execution_count": null,
   "metadata": {},
   "outputs": [],
   "source": [
    "weekly_df[\"Start Time\"] = weekly_df[\"Time\"].apply(lambda x: reformat_time(x[0]))\n",
    "weekly_df[\"End Time\"] = weekly_df[\"Time\"].apply(lambda x: reformat_time(x[1]))\n",
    "weekly_df[\"Location\"] = weekly_df[\"BLDG\"] + \" \" + weekly_df[\"Room\"]\n",
    "formatted_wdf = weekly_df[[\"Node Title\", \"Days\", \"Start Time\", \"End Time\", \"Location\"]]\n",
    "formatted_wdf = formatted_wdf.fillna(\"—\")\n",
    "formatted_wdf = formatted_wdf.explode(\"Days\")\n",
    "formatted_wdf = formatted_wdf.reset_index(drop=True)"
   ]
  },
  {
   "cell_type": "code",
   "execution_count": null,
   "metadata": {},
   "outputs": [],
   "source": [
    "formatted_wdf\n"
   ]
  },
  {
   "cell_type": "code",
   "execution_count": 135,
   "metadata": {},
   "outputs": [
    {
     "name": "stdout",
     "output_type": "stream",
     "text": [
      "Weekly Schedule initialized\n"
     ]
    }
   ],
   "source": [
    "reload_modules()\n",
    "user_x = user.User(\"me\", \"id\")\n",
    "\n",
    "for entry in formatted_wdf.values:\n",
    "    day = entry[1]\n",
    "    new_node = wrs.CourseNode(*entry)\n",
    "    user_x.add_class(new_node)"
   ]
  },
  {
   "cell_type": "code",
   "execution_count": 136,
   "metadata": {},
   "outputs": [
    {
     "data": {
      "text/plain": [
       "{'M': M Schedule: JAPN 10A TU, MATH 20D LE, MATH 140A LE,\n",
       " 'Tu': Tu Schedule: JAPN 10A LE, MATH 173A LE, DSC 80 LE, MATH 140A DI,\n",
       " 'W': W Schedule: JAPN 10A TU, MATH 20D LE, MATH 140A LE,\n",
       " 'Th': Th Schedule: JAPN 10A LE, MATH 173A LE, DSC 80 LE, MATH 20D DI,\n",
       " 'F': F Schedule: JAPN 10A TU, DSC 80 DI, MATH 20D LE, MATH 140A LE, MATH 173A DI}"
      ]
     },
     "execution_count": 136,
     "metadata": {},
     "output_type": "execute_result"
    }
   ],
   "source": [
    "user_x.get_schedule()"
   ]
  },
  {
   "cell_type": "code",
   "execution_count": 137,
   "metadata": {},
   "outputs": [
    {
     "data": {
      "text/plain": [
       "User me with ID id, schedule: {'M': M Schedule: JAPN 10A TU, MATH 20D LE, MATH 140A LE, 'Tu': Tu Schedule: JAPN 10A LE, MATH 173A LE, DSC 80 LE, MATH 140A DI, 'W': W Schedule: JAPN 10A TU, MATH 20D LE, MATH 140A LE, 'Th': Th Schedule: JAPN 10A LE, MATH 173A LE, DSC 80 LE, MATH 20D DI, 'F': F Schedule: JAPN 10A TU, DSC 80 DI, MATH 20D LE, MATH 140A LE, MATH 173A DI}"
      ]
     },
     "execution_count": 137,
     "metadata": {},
     "output_type": "execute_result"
    }
   ],
   "source": [
    "user_x"
   ]
  }
 ],
 "metadata": {
  "kernelspec": {
   "display_name": "SubjectBot",
   "language": "python",
   "name": "python3"
  },
  "language_info": {
   "codemirror_mode": {
    "name": "ipython",
    "version": 3
   },
   "file_extension": ".py",
   "mimetype": "text/x-python",
   "name": "python",
   "nbconvert_exporter": "python",
   "pygments_lexer": "ipython3",
   "version": "3.11.4"
  },
  "orig_nbformat": 4
 },
 "nbformat": 4,
 "nbformat_minor": 2
}
